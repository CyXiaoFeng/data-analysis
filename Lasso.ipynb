{
 "cells": [
  {
   "cell_type": "code",
   "execution_count": 8,
   "id": "c49e97f6",
   "metadata": {},
   "outputs": [],
   "source": [
    "import pandas as pd \n",
    "import numpy as np\n",
    "from sklearn.utils import shuffle\n",
    "from sklearn.preprocessing import StandardScaler\n",
    "from scipy.stats import levene, ttest_ind\n",
    "from sklearn.linear_model import LassoCV\n",
    "from sklearn.model_selection import train_test_split,cross_val_score, KFold, RepeatedKFold, GridSearchCV\n",
    "from scipy.stats import pearsonr, ttest_ind, levene\n",
    "from sklearn.ensemble import RandomForestClassifier\n"
   ]
  },
  {
   "cell_type": "code",
   "execution_count": 9,
   "id": "2aa2dd1e",
   "metadata": {
    "scrolled": false
   },
   "outputs": [],
   "source": [
    "xlsx1_filePath = 'RESULT.oa.csv'\n",
    "xlsx2_filePath ='RESULT.non oa.csv'\n",
    "data_1 = pd.read_csv(xlsx1_filePath)\n",
    "data_2 = pd.read_csv(xlsx2_filePath)\n",
    "\n",
    "rows_1,_ = data_1.shape\n",
    "rows_2,_ = data_2.shape\n",
    "data = pd.concat([data_1, data_2])"
   ]
  },
  {
   "cell_type": "code",
   "execution_count": 10,
   "id": "7596c841",
   "metadata": {},
   "outputs": [
    {
     "name": "stderr",
     "output_type": "stream",
     "text": [
      "d:\\Python\\Python311\\Lib\\site-packages\\scipy\\stats\\_morestats.py:2710: RuntimeWarning: invalid value encountered in scalar divide\n",
      "  W = numer / denom\n",
      "C:\\Users\\xiaof\\AppData\\Local\\Temp\\ipykernel_8516\\1890022400.py:10: RuntimeWarning: Precision loss occurred in moment calculation due to catastrophic cancellation. This occurs when the data are nearly identical. Results may be unreliable.\n",
      "  if ttest_ind(data_1[colName],data_2[colName],equal_var = False)[1] < 0.05:\n"
     ]
    },
    {
     "name": "stdout",
     "output_type": "stream",
     "text": [
      "8\n"
     ]
    }
   ],
   "source": [
    "# T检验\n",
    "counts = 0\n",
    "index = []\n",
    "for colName in data.columns[1:]:\n",
    "    if levene(data_1[colName],data_2[colName])[1] > 0.05:\n",
    "        if ttest_ind(data_1[colName],data_2[colName])[1] < 0.05:\n",
    "            counts += 1\n",
    "            index.append(colName)\n",
    "    else:\n",
    "        if ttest_ind(data_1[colName],data_2[colName],equal_var = False)[1] < 0.05:\n",
    "            counts += 1\n",
    "            index.append(colName)\n",
    "print(len(colName))"
   ]
  },
  {
   "cell_type": "code",
   "execution_count": 11,
   "id": "e87e0afc",
   "metadata": {
    "scrolled": true
   },
   "outputs": [],
   "source": [
    "if 'label' not in index:index = ['label']+index\n",
    "data_1 = data_1[index]\n",
    "data_2 = data_2[index]\n",
    "data = pd.concat([data_1,data_2])\n",
    "data = shuffle(data)  #数值打乱\n",
    "data.index = range(len(data))  #打乱后重新标号\n",
    "x = data[data.columns[1:]]\n",
    "y = data['label']\n",
    "x = x.apply(pd.to_numeric,errors='ignore')#数据类型转化为数值型\n",
    "colNames = x.columns  #读取特征名\n",
    "x = x.fillna(0)  #填补空白值\n",
    "x = x.astype(np.float64)\n",
    "x = StandardScaler().fit_transform(x) #正则化\n",
    "x = pd.DataFrame(x)\n",
    "x.columns = colNames\n",
    "#data.to_excel(\"!!.xlsx\",index=True)"
   ]
  },
  {
   "cell_type": "code",
   "execution_count": 12,
   "id": "a82bcc32",
   "metadata": {},
   "outputs": [
    {
     "name": "stdout",
     "output_type": "stream",
     "text": [
      "[1.00000000e-03 1.20679264e-03 1.45634848e-03 1.75751062e-03\n",
      " 2.12095089e-03 2.55954792e-03 3.08884360e-03 3.72759372e-03\n",
      " 4.49843267e-03 5.42867544e-03 6.55128557e-03 7.90604321e-03\n",
      " 9.54095476e-03 1.15139540e-02 1.38949549e-02 1.67683294e-02\n",
      " 2.02358965e-02 2.44205309e-02 2.94705170e-02 3.55648031e-02\n",
      " 4.29193426e-02 5.17947468e-02 6.25055193e-02 7.54312006e-02\n",
      " 9.10298178e-02 1.09854114e-01 1.32571137e-01 1.59985872e-01\n",
      " 1.93069773e-01 2.32995181e-01 2.81176870e-01 3.39322177e-01\n",
      " 4.09491506e-01 4.94171336e-01 5.96362332e-01 7.19685673e-01\n",
      " 8.68511374e-01 1.04811313e+00 1.26485522e+00 1.52641797e+00\n",
      " 1.84206997e+00 2.22299648e+00 2.68269580e+00 3.23745754e+00\n",
      " 3.90693994e+00 4.71486636e+00 5.68986603e+00 6.86648845e+00\n",
      " 8.28642773e+00 1.00000000e+01]\n"
     ]
    }
   ],
   "source": [
    "alphas = np.logspace(-3,1,50)\n",
    "print(alphas)\n",
    "model_lassoCV = LassoCV(alphas = alphas, cv= 10, max_iter = 100000).fit(x,y)"
   ]
  },
  {
   "cell_type": "code",
   "execution_count": 13,
   "id": "49dd8f32",
   "metadata": {
    "scrolled": true
   },
   "outputs": [
    {
     "name": "stdout",
     "output_type": "stream",
     "text": [
      "0.006551285568595509\n",
      "Lasso picked 20 variables and eliminated the other 60\n"
     ]
    }
   ],
   "source": [
    "print(model_lassoCV.alpha_)\n",
    "coef = pd.Series(model_lassoCV.coef_, index = x.columns)\n",
    "#print(coef)\n",
    "print(\"Lasso picked \" + str(sum(coef != 0)) + \" variables and eliminated the other \" + str(sum(coef == 0)))"
   ]
  },
  {
   "cell_type": "code",
   "execution_count": 42,
   "id": "66e40b1c",
   "metadata": {},
   "outputs": [
    {
     "name": "stdout",
     "output_type": "stream",
     "text": [
      "BMI                                     0.145460\n",
      "SBP                                     0.101995\n",
      "TG                                      0.054150\n",
      "TC                                      0.038045\n",
      "HbA 1c                                  0.063439\n",
      "Mean                                    0.036769\n",
      "Minimum                                -0.074288\n",
      "VoxelNum                               -0.022967\n",
      "Maximum2DDiameterSlice                  0.040343\n",
      "10Percentile                            0.013496\n",
      "Kurtosis                               -0.012515\n",
      "Skewness                                0.003308\n",
      "Correlation                             0.018791\n",
      "Imc1                                   -0.028927\n",
      "DependenceNonUniformity                 0.007209\n",
      "GrayLevelNonUniformity                 -0.029009\n",
      "SmallDependenceHighGrayLevelEmphasis   -0.015205\n",
      "LargeAreaHighGrayLevelEmphasis         -0.000835\n",
      "SmallAreaEmphasis                      -0.019924\n",
      "ZoneEntropy                             0.044181\n",
      "dtype: float64\n"
     ]
    }
   ],
   "source": [
    "index = coef[coef != 0].index\n",
    "x = x[index]\n",
    "# print(x)\n",
    "print(coef[coef != 0])"
   ]
  },
  {
   "cell_type": "code",
   "execution_count": 15,
   "id": "0ba3899c",
   "metadata": {},
   "outputs": [],
   "source": [
    "# Lasso降维作图"
   ]
  },
  {
   "cell_type": "code",
   "execution_count": 16,
   "id": "c8d5bd77",
   "metadata": {},
   "outputs": [
    {
     "data": {
      "image/png": "[encoded data removed]",
      "text/plain": [
       "<Figure size 640x480 with 1 Axes>"
      ]
     },
     "metadata": {},
     "output_type": "display_data"
    }
   ],
   "source": [
    "import matplotlib.pyplot as plt\n",
    "from matplotlib.pyplot import MultipleLocator\n",
    "import itertools\n",
    "import time\n",
    "MSEs = model_lassoCV.mse_path_\n",
    "MSEs_mean = np.apply_along_axis(np.mean,1,MSEs)\n",
    "MSEs_std = np.apply_along_axis(np.std,1,MSEs)\n",
    "plt.figure() #dpi = 300(图片像素要求,放括号里！)\n",
    "plt.errorbar(model_lassoCV.alphas_,MSEs_mean  #x,y\n",
    "            ,yerr=MSEs_std  #y误差范围\n",
    "            ,fmt=\"o\"  #数据点标记\n",
    "            ,ms=3  #数据点大小\n",
    "            ,mfc=\"r\"  #数据点颜色\n",
    "            ,mec=\"r\"  #数据点边缘颜色\n",
    "            ,ecolor=\"lightblue\"  #误差棒颜色\n",
    "            ,elinewidth=2  #误差棒线宽度\n",
    "            ,capsize=4  #误差棒边界线长度\n",
    "            ,capthick=1)  #误差棒边界线厚度\n",
    "plt.semilogx()  #x轴取log坐标\n",
    "plt.axvline(model_lassoCV.alpha_,color= 'black',ls= '--')  #画虚线\n",
    "plt.xlabel('Lambda')\n",
    "plt.ylabel('MSE')\n",
    "ax=plt.gca()\n",
    "y_major_locator= MultipleLocator(0.02)\n",
    "ax.yaxis.set_major_locator(y_major_locator)\n",
    "plt.show()"
   ]
  },
  {
   "cell_type": "code",
   "execution_count": 17,
   "id": "9581e8ca",
   "metadata": {
    "scrolled": true
   },
   "outputs": [
    {
     "data": {
      "image/png": "[encoded data removed]",
      "text/plain": [
       "<Figure size 640x480 with 1 Axes>"
      ]
     },
     "metadata": {},
     "output_type": "display_data"
    }
   ],
   "source": [
    "coefs = model_lassoCV.path(x,y,alphas = alphas, max_iter = 1000000)[1].T\n",
    "plt.figure()\n",
    "plt.semilogx(model_lassoCV.alphas_,coefs, '-')\n",
    "plt.axvline(model_lassoCV.alpha_,color = 'black',ls='--')\n",
    "plt.xlabel('Lambda')\n",
    "plt.ylabel('Coefficience')\n",
    "plt.show()"
   ]
  },
  {
   "cell_type": "code",
   "execution_count": 18,
   "id": "6ee380d6",
   "metadata": {},
   "outputs": [],
   "source": [
    "#随机森林RandomForest"
   ]
  },
  {
   "cell_type": "code",
   "execution_count": 19,
   "id": "c0608c38",
   "metadata": {},
   "outputs": [
    {
     "name": "stdout",
     "output_type": "stream",
     "text": [
      "0.7394366197183099\n"
     ]
    }
   ],
   "source": [
    "x_train, x_test, y_train, y_test = train_test_split(x, y,test_size=0.2)\n",
    "model_rf = RandomForestClassifier(n_estimators=20).fit(x_train,y_train)\n",
    "score_rf = model_rf.score(x_test,y_test)\n",
    "print(score_rf)"
   ]
  },
  {
   "cell_type": "code",
   "execution_count": 20,
   "id": "353901ae",
   "metadata": {},
   "outputs": [],
   "source": [
    "#支持向量机SVC"
   ]
  },
  {
   "cell_type": "code",
   "execution_count": 21,
   "id": "f85bb04d",
   "metadata": {},
   "outputs": [],
   "source": [
    "from sklearn.svm import SVC"
   ]
  },
  {
   "cell_type": "code",
   "execution_count": 22,
   "id": "a4c0a14e",
   "metadata": {},
   "outputs": [],
   "source": [
    "svc_linear = SVC(kernel=\"linear\")"
   ]
  },
  {
   "cell_type": "code",
   "execution_count": 23,
   "id": "afd6cc03",
   "metadata": {},
   "outputs": [
    {
     "data": {
      "text/html": [
       "<style>#sk-container-id-1 {color: black;background-color: white;}#sk-container-id-1 pre{padding: 0;}#sk-container-id-1 div.sk-toggleable {background-color: white;}#sk-container-id-1 label.sk-toggleable__label {cursor: pointer;display: block;width: 100%;margin-bottom: 0;padding: 0.3em;box-sizing: border-box;text-align: center;}#sk-container-id-1 label.sk-toggleable__label-arrow:before {content: \"▸\";float: left;margin-right: 0.25em;color: #696969;}#sk-container-id-1 label.sk-toggleable__label-arrow:hover:before {color: black;}#sk-container-id-1 div.sk-estimator:hover label.sk-toggleable__label-arrow:before {color: black;}#sk-container-id-1 div.sk-toggleable__content {max-height: 0;max-width: 0;overflow: hidden;text-align: left;background-color: #f0f8ff;}#sk-container-id-1 div.sk-toggleable__content pre {margin: 0.2em;color: black;border-radius: 0.25em;background-color: #f0f8ff;}#sk-container-id-1 input.sk-toggleable__control:checked~div.sk-toggleable__content {max-height: 200px;max-width: 100%;overflow: auto;}#sk-container-id-1 input.sk-toggleable__control:checked~label.sk-toggleable__label-arrow:before {content: \"▾\";}#sk-container-id-1 div.sk-estimator input.sk-toggleable__control:checked~label.sk-toggleable__label {background-color: #d4ebff;}#sk-container-id-1 div.sk-label input.sk-toggleable__control:checked~label.sk-toggleable__label {background-color: #d4ebff;}#sk-container-id-1 input.sk-hidden--visually {border: 0;clip: rect(1px 1px 1px 1px);clip: rect(1px, 1px, 1px, 1px);height: 1px;margin: -1px;overflow: hidden;padding: 0;position: absolute;width: 1px;}#sk-container-id-1 div.sk-estimator {font-family: monospace;background-color: #f0f8ff;border: 1px dotted black;border-radius: 0.25em;box-sizing: border-box;margin-bottom: 0.5em;}#sk-container-id-1 div.sk-estimator:hover {background-color: #d4ebff;}#sk-container-id-1 div.sk-parallel-item::after {content: \"\";width: 100%;border-bottom: 1px solid gray;flex-grow: 1;}#sk-container-id-1 div.sk-label:hover label.sk-toggleable__label {background-color: #d4ebff;}#sk-container-id-1 div.sk-serial::before {content: \"\";position: absolute;border-left: 1px solid gray;box-sizing: border-box;top: 0;bottom: 0;left: 50%;z-index: 0;}#sk-container-id-1 div.sk-serial {display: flex;flex-direction: column;align-items: center;background-color: white;padding-right: 0.2em;padding-left: 0.2em;position: relative;}#sk-container-id-1 div.sk-item {position: relative;z-index: 1;}#sk-container-id-1 div.sk-parallel {display: flex;align-items: stretch;justify-content: center;background-color: white;position: relative;}#sk-container-id-1 div.sk-item::before, #sk-container-id-1 div.sk-parallel-item::before {content: \"\";position: absolute;border-left: 1px solid gray;box-sizing: border-box;top: 0;bottom: 0;left: 50%;z-index: -1;}#sk-container-id-1 div.sk-parallel-item {display: flex;flex-direction: column;z-index: 1;position: relative;background-color: white;}#sk-container-id-1 div.sk-parallel-item:first-child::after {align-self: flex-end;width: 50%;}#sk-container-id-1 div.sk-parallel-item:last-child::after {align-self: flex-start;width: 50%;}#sk-container-id-1 div.sk-parallel-item:only-child::after {width: 0;}#sk-container-id-1 div.sk-dashed-wrapped {border: 1px dashed gray;margin: 0 0.4em 0.5em 0.4em;box-sizing: border-box;padding-bottom: 0.4em;background-color: white;}#sk-container-id-1 div.sk-label label {font-family: monospace;font-weight: bold;display: inline-block;line-height: 1.2em;}#sk-container-id-1 div.sk-label-container {text-align: center;}#sk-container-id-1 div.sk-container {/* jupyter's `normalize.less` sets `[hidden] { display: none; }` but bootstrap.min.css set `[hidden] { display: none !important; }` so we also need the `!important` here to be able to override the default hidden behavior on the sphinx rendered scikit-learn.org. See: https://github.com/scikit-learn/scikit-learn/issues/21755 */display: inline-block !important;position: relative;}#sk-container-id-1 div.sk-text-repr-fallback {display: none;}</style><div id=\"sk-container-id-1\" class=\"sk-top-container\"><div class=\"sk-text-repr-fallback\"><pre>SVC(kernel=&#x27;linear&#x27;)</pre><b>In a Jupyter environment, please rerun this cell to show the HTML representation or trust the notebook. <br />On GitHub, the HTML representation is unable to render, please try loading this page with nbviewer.org.</b></div><div class=\"sk-container\" hidden><div class=\"sk-item\"><div class=\"sk-estimator sk-toggleable\"><input class=\"sk-toggleable__control sk-hidden--visually\" id=\"sk-estimator-id-1\" type=\"checkbox\" checked><label for=\"sk-estimator-id-1\" class=\"sk-toggleable__label sk-toggleable__label-arrow\">SVC</label><div class=\"sk-toggleable__content\"><pre>SVC(kernel=&#x27;linear&#x27;)</pre></div></div></div></div></div>"
      ],
      "text/plain": [
       "SVC(kernel='linear')"
      ]
     },
     "execution_count": 23,
     "metadata": {},
     "output_type": "execute_result"
    }
   ],
   "source": [
    "svc_linear.fit(x_train, y_train)"
   ]
  },
  {
   "cell_type": "code",
   "execution_count": 24,
   "id": "484d5043",
   "metadata": {},
   "outputs": [
    {
     "data": {
      "text/plain": [
       "array([[ 0.61736941,  0.59183503,  0.22768673,  0.17239505,  0.34883903,\n",
       "         0.95287413, -1.15762324, -0.36504029,  0.20645309,  0.21617532,\n",
       "        -0.01781878, -0.01634195, -0.02329978, -0.17521548,  0.2922439 ,\n",
       "        -0.45241264, -0.21368433, -0.11308699, -0.15380143,  0.13556252]])"
      ]
     },
     "execution_count": 24,
     "metadata": {},
     "output_type": "execute_result"
    }
   ],
   "source": [
    "svc_linear.coef_"
   ]
  },
  {
   "cell_type": "code",
   "execution_count": 25,
   "id": "a5f5fb8a",
   "metadata": {},
   "outputs": [
    {
     "data": {
      "text/plain": [
       "array([-0.03043766])"
      ]
     },
     "execution_count": 25,
     "metadata": {},
     "output_type": "execute_result"
    }
   ],
   "source": [
    "svc_linear.intercept_"
   ]
  },
  {
   "cell_type": "code",
   "execution_count": 26,
   "id": "a4bb9f75",
   "metadata": {},
   "outputs": [
    {
     "data": {
      "text/plain": [
       "array([0, 0, 0, 1, 1, 1, 1, 1, 0, 1, 0, 0, 0, 0, 1, 1, 1, 1, 0, 1, 0, 0,\n",
       "       0, 0, 0, 0, 1, 1, 0, 1, 0, 0, 1, 1, 1, 0, 1, 0, 1, 1, 1, 1, 0, 1,\n",
       "       0, 1, 1, 1, 1, 0, 1, 0, 0, 0, 0, 1, 1, 1, 0, 1, 1, 0, 1, 1, 1, 1,\n",
       "       1, 1, 0, 1, 0, 1, 0, 1, 1, 1, 0, 0, 0, 0, 0, 1, 1, 1, 1, 0, 1, 1,\n",
       "       0, 1, 0, 1, 1, 0, 1, 1, 0, 1, 0, 0, 0, 0, 0, 1, 0, 0, 1, 0, 1, 0,\n",
       "       1, 0, 1, 0, 0, 0, 0, 0, 1, 1, 0, 0, 1, 0, 0, 1, 0, 1, 0, 0, 1, 0,\n",
       "       1, 0, 1, 0, 0, 1, 0, 1, 0, 1], dtype=int64)"
      ]
     },
     "execution_count": 26,
     "metadata": {},
     "output_type": "execute_result"
    }
   ],
   "source": [
    "test_predict = svc_linear.predict(x_test)\n",
    "test_predict"
   ]
  },
  {
   "cell_type": "code",
   "execution_count": 27,
   "id": "06b6fd72",
   "metadata": {},
   "outputs": [
    {
     "data": {
      "text/plain": [
       "0.7887323943661971"
      ]
     },
     "execution_count": 27,
     "metadata": {},
     "output_type": "execute_result"
    }
   ],
   "source": [
    "svc_linear.score(x_test, y_test)"
   ]
  },
  {
   "cell_type": "code",
   "execution_count": 28,
   "id": "b3b1ffd5",
   "metadata": {},
   "outputs": [],
   "source": [
    "#效能"
   ]
  },
  {
   "cell_type": "code",
   "execution_count": 29,
   "id": "3e0748f7",
   "metadata": {},
   "outputs": [],
   "source": [
    "from sklearn.metrics import confusion_matrix, roc_curve,accuracy_score"
   ]
  },
  {
   "cell_type": "code",
   "execution_count": 30,
   "id": "d69c64fc",
   "metadata": {},
   "outputs": [
    {
     "data": {
      "text/plain": [
       "0.7887323943661971"
      ]
     },
     "execution_count": 30,
     "metadata": {},
     "output_type": "execute_result"
    }
   ],
   "source": [
    "accuracy_score(y_test, test_predict)"
   ]
  },
  {
   "cell_type": "code",
   "execution_count": 31,
   "id": "3a666725",
   "metadata": {},
   "outputs": [
    {
     "data": {
      "text/plain": [
       "array([[55, 15],\n",
       "       [15, 57]], dtype=int64)"
      ]
     },
     "execution_count": 31,
     "metadata": {},
     "output_type": "execute_result"
    }
   ],
   "source": [
    "confusion_matrix(y_test, test_predict)"
   ]
  },
  {
   "cell_type": "code",
   "execution_count": 32,
   "id": "985bf2fd",
   "metadata": {},
   "outputs": [],
   "source": [
    "import seaborn as sns"
   ]
  },
  {
   "cell_type": "code",
   "execution_count": 33,
   "id": "b6f9121d",
   "metadata": {},
   "outputs": [
    {
     "data": {
      "text/plain": [
       "<Axes: >"
      ]
     },
     "execution_count": 33,
     "metadata": {},
     "output_type": "execute_result"
    },
    {
     "data": {
      "image/png": "[encoded data removed]",
      "text/plain": [
       "<Figure size 640x480 with 2 Axes>"
      ]
     },
     "metadata": {},
     "output_type": "display_data"
    }
   ],
   "source": [
    "#热点图\n",
    "sns.heatmap(confusion_matrix(y_test, test_predict),\n",
    "        xticklabels=['B','M'],\n",
    "        yticklabels=['B','M'])"
   ]
  },
  {
   "cell_type": "code",
   "execution_count": 34,
   "id": "9298b7bf",
   "metadata": {},
   "outputs": [],
   "source": [
    "y_score = svc_linear.decision_function(x_test)"
   ]
  },
  {
   "cell_type": "code",
   "execution_count": 35,
   "id": "00491cd8",
   "metadata": {},
   "outputs": [],
   "source": [
    "fpr, tpr, thresholds = roc_curve(y_test, y_score)"
   ]
  },
  {
   "cell_type": "code",
   "execution_count": 36,
   "id": "b9fe05f1",
   "metadata": {},
   "outputs": [
    {
     "data": {
      "image/png": "[encoded data removed]",
      "text/plain": [
       "<Figure size 640x480 with 1 Axes>"
      ]
     },
     "metadata": {},
     "output_type": "display_data"
    }
   ],
   "source": [
    "#ROC曲线\n",
    "import matplotlib.pyplot as plt\n",
    "plt.figure()\n",
    "plt.plot(fpr, tpr)\n",
    "plt.xlabel('False Positive Rate')\n",
    "plt.ylabel('Teue Positive Rate')\n",
    "plt.title('ROC curve')\n",
    "plt.show()"
   ]
  },
  {
   "cell_type": "code",
   "execution_count": 37,
   "id": "b2fdda69",
   "metadata": {},
   "outputs": [],
   "source": [
    "#AUC曲线\n",
    "from sklearn.metrics import auc"
   ]
  },
  {
   "cell_type": "code",
   "execution_count": 38,
   "id": "3be3c8a9",
   "metadata": {},
   "outputs": [],
   "source": [
    "Cs = np.logspace(-3,2,200)\n",
    "aucs_=[]\n",
    "for C_ in Cs:\n",
    "    svc_linear = SVC(kernel=\"linear\",C=C_)\n",
    "    svc_linear.fit(x_train, y_train)\n",
    "    y_score = svc_linear.decision_function(x_test)\n",
    "    fpr, tpr, thresholds = roc_curve(y_test, y_score)\n",
    "    auc_ = auc(fpr, tpr)\n",
    "    aucs_.append(auc_)"
   ]
  },
  {
   "cell_type": "code",
   "execution_count": 39,
   "id": "7be9b2ed",
   "metadata": {},
   "outputs": [
    {
     "data": {
      "text/plain": [
       "[0.834920634920635,\n",
       " 0.8367063492063492,\n",
       " 0.8380952380952381,\n",
       " 0.8396825396825397,\n",
       " 0.8400793650793651,\n",
       " 0.8408730158730159,\n",
       " 0.8416666666666666,\n",
       " 0.844047619047619,\n",
       " 0.8452380952380952,\n",
       " 0.8462301587301588,\n",
       " 0.8462301587301588,\n",
       " 0.8478174603174603,\n",
       " 0.8478174603174603,\n",
       " 0.8484126984126984,\n",
       " 0.8494047619047619,\n",
       " 0.8501984126984128,\n",
       " 0.8501984126984128,\n",
       " 0.851388888888889,\n",
       " 0.8525793650793652,\n",
       " 0.851984126984127,\n",
       " 0.8507936507936508,\n",
       " 0.8517857142857144,\n",
       " 0.8547619047619048,\n",
       " 0.8531746031746033,\n",
       " 0.8551587301587302,\n",
       " 0.8549603174603174,\n",
       " 0.8545634920634921,\n",
       " 0.856547619047619,\n",
       " 0.8577380952380952,\n",
       " 0.8603174603174604,\n",
       " 0.8597222222222223,\n",
       " 0.860515873015873,\n",
       " 0.8607142857142858,\n",
       " 0.8613095238095237,\n",
       " 0.8609126984126985,\n",
       " 0.8611111111111112,\n",
       " 0.861904761904762,\n",
       " 0.8603174603174604,\n",
       " 0.8625,\n",
       " 0.8613095238095239,\n",
       " 0.8613095238095239,\n",
       " 0.8632936507936508,\n",
       " 0.8642857142857143,\n",
       " 0.8660714285714286,\n",
       " 0.8662698412698413,\n",
       " 0.8660714285714286,\n",
       " 0.866468253968254,\n",
       " 0.8662698412698413,\n",
       " 0.8650793650793651,\n",
       " 0.8660714285714286,\n",
       " 0.8648809523809524,\n",
       " 0.8650793650793651,\n",
       " 0.8640873015873016,\n",
       " 0.8654761904761905,\n",
       " 0.8650793650793651,\n",
       " 0.8656746031746032,\n",
       " 0.8658730158730159,\n",
       " 0.8656746031746032,\n",
       " 0.8668650793650794,\n",
       " 0.8670634920634921,\n",
       " 0.8674603174603175,\n",
       " 0.868452380952381,\n",
       " 0.8696428571428572,\n",
       " 0.8708333333333333,\n",
       " 0.8708333333333333,\n",
       " 0.8712301587301589,\n",
       " 0.8720238095238095,\n",
       " 0.8724206349206349,\n",
       " 0.8712301587301587,\n",
       " 0.8712301587301587,\n",
       " 0.8720238095238095,\n",
       " 0.8728174603174603,\n",
       " 0.8736111111111111,\n",
       " 0.8751984126984127,\n",
       " 0.8763888888888889,\n",
       " 0.8777777777777778,\n",
       " 0.8793650793650793,\n",
       " 0.8793650793650793,\n",
       " 0.8797619047619049,\n",
       " 0.8793650793650793,\n",
       " 0.8793650793650793,\n",
       " 0.8787698412698413,\n",
       " 0.8793650793650795,\n",
       " 0.8785714285714287,\n",
       " 0.8787698412698413,\n",
       " 0.879563492063492,\n",
       " 0.8799603174603174,\n",
       " 0.8803571428571428,\n",
       " 0.8809523809523809,\n",
       " 0.8811507936507936,\n",
       " 0.8813492063492063,\n",
       " 0.881547619047619,\n",
       " 0.8813492063492063,\n",
       " 0.8811507936507936,\n",
       " 0.8817460317460317,\n",
       " 0.8817460317460317,\n",
       " 0.8797619047619047,\n",
       " 0.8799603174603174,\n",
       " 0.8799603174603174,\n",
       " 0.8805555555555555,\n",
       " 0.8809523809523809,\n",
       " 0.8819444444444444,\n",
       " 0.881547619047619,\n",
       " 0.8811507936507936,\n",
       " 0.8815476190476191,\n",
       " 0.8813492063492063,\n",
       " 0.8811507936507936,\n",
       " 0.879563492063492,\n",
       " 0.8791666666666667,\n",
       " 0.879563492063492,\n",
       " 0.8783730158730159,\n",
       " 0.8787698412698413,\n",
       " 0.8791666666666667,\n",
       " 0.880952380952381,\n",
       " 0.880952380952381,\n",
       " 0.8827380952380953,\n",
       " 0.8833333333333333,\n",
       " 0.8841269841269841,\n",
       " 0.8843253968253968,\n",
       " 0.8853174603174604,\n",
       " 0.8853174603174604,\n",
       " 0.8851190476190476,\n",
       " 0.8853174603174604,\n",
       " 0.8853174603174604,\n",
       " 0.8853174603174604,\n",
       " 0.8841269841269841,\n",
       " 0.8839285714285714,\n",
       " 0.8821428571428571,\n",
       " 0.881547619047619,\n",
       " 0.8817460317460317,\n",
       " 0.881547619047619,\n",
       " 0.8813492063492063,\n",
       " 0.8813492063492063,\n",
       " 0.8815476190476189,\n",
       " 0.8819444444444444,\n",
       " 0.8819444444444444,\n",
       " 0.8817460317460317,\n",
       " 0.8817460317460317,\n",
       " 0.8837301587301587,\n",
       " 0.8853174603174603,\n",
       " 0.8841269841269841,\n",
       " 0.8825396825396826,\n",
       " 0.8829365079365079,\n",
       " 0.8845238095238095,\n",
       " 0.8825396825396826,\n",
       " 0.8825396825396826,\n",
       " 0.8845238095238095,\n",
       " 0.8845238095238095,\n",
       " 0.8843253968253968,\n",
       " 0.8843253968253968,\n",
       " 0.8843253968253968,\n",
       " 0.8831349206349207,\n",
       " 0.8825396825396826,\n",
       " 0.8821428571428571,\n",
       " 0.8815476190476191,\n",
       " 0.8813492063492064,\n",
       " 0.881547619047619,\n",
       " 0.8821428571428572,\n",
       " 0.8821428571428571,\n",
       " 0.8821428571428571,\n",
       " 0.8823412698412699,\n",
       " 0.8819444444444444,\n",
       " 0.8819444444444444,\n",
       " 0.8843253968253969,\n",
       " 0.8841269841269842,\n",
       " 0.8843253968253968,\n",
       " 0.8843253968253969,\n",
       " 0.8843253968253969,\n",
       " 0.8843253968253969,\n",
       " 0.8843253968253969,\n",
       " 0.8843253968253969,\n",
       " 0.8845238095238095,\n",
       " 0.8843253968253969,\n",
       " 0.8841269841269842,\n",
       " 0.8849206349206349,\n",
       " 0.8845238095238095,\n",
       " 0.8843253968253968,\n",
       " 0.8843253968253968,\n",
       " 0.8843253968253968,\n",
       " 0.8843253968253968,\n",
       " 0.8849206349206349,\n",
       " 0.8839285714285715,\n",
       " 0.8837301587301588,\n",
       " 0.883531746031746,\n",
       " 0.8837301587301588,\n",
       " 0.8839285714285715,\n",
       " 0.883531746031746,\n",
       " 0.8841269841269842,\n",
       " 0.8833333333333333,\n",
       " 0.8837301587301587,\n",
       " 0.883531746031746,\n",
       " 0.8837301587301587,\n",
       " 0.8831349206349206,\n",
       " 0.8839285714285714,\n",
       " 0.883531746031746,\n",
       " 0.8841269841269841,\n",
       " 0.8837301587301588,\n",
       " 0.8837301587301588,\n",
       " 0.8835317460317461,\n",
       " 0.8831349206349206]"
      ]
     },
     "execution_count": 39,
     "metadata": {},
     "output_type": "execute_result"
    }
   ],
   "source": [
    "aucs_"
   ]
  },
  {
   "cell_type": "code",
   "execution_count": 40,
   "id": "acdd59ff",
   "metadata": {
    "scrolled": true
   },
   "outputs": [
    {
     "data": {
      "text/plain": [
       "200"
      ]
     },
     "execution_count": 40,
     "metadata": {},
     "output_type": "execute_result"
    }
   ],
   "source": [
    "len(aucs_)"
   ]
  },
  {
   "cell_type": "code",
   "execution_count": 41,
   "id": "714c88da",
   "metadata": {},
   "outputs": [
    {
     "data": {
      "image/png": "[encoded data removed]",
      "text/plain": [
       "<Figure size 640x480 with 1 Axes>"
      ]
     },
     "metadata": {},
     "output_type": "display_data"
    }
   ],
   "source": [
    "plt.plot(Cs, aucs_)\n",
    "plt.xscale('log')\n",
    "plt.xlabel('C')\n",
    "plt.ylabel('auc')\n",
    "plt.show()"
   ]
  },
  {
   "cell_type": "code",
   "execution_count": null,
   "id": "b8981bfb",
   "metadata": {},
   "outputs": [],
   "source": []
  }
 ],
 "metadata": {
  "kernelspec": {
   "display_name": "Python 3 (ipykernel)",
   "language": "python",
   "name": "python3"
  },
  "language_info": {
   "codemirror_mode": {
    "name": "ipython",
    "version": 3
   },
   "file_extension": ".py",
   "mimetype": "text/x-python",
   "name": "python",
   "nbconvert_exporter": "python",
   "pygments_lexer": "ipython3",
   "version": "3.11.3"
  }
 },
 "nbformat": 4,
 "nbformat_minor": 5
}
